{
 "cells": [
  {
   "cell_type": "code",
   "execution_count": 1,
   "metadata": {},
   "outputs": [],
   "source": [
    "import math\n",
    "import numpy as np\n",
    "import pandas as pd\n",
    "import uproot\n",
    "import matplotlib.pyplot as plt\n",
    "from sificc_lib import Utils_new, Event_new, Simulation_new, root_files\n",
    "\n",
    "pd.options.display.max_columns = 100\n",
    "pd.options.display.max_rows = 100\n",
    "pd.options.display.float_format = '{:,.3f}'.format\n",
    "\n",
    "%matplotlib inline"
   ]
  },
  {
   "cell_type": "code",
   "execution_count": 2,
   "metadata": {},
   "outputs": [],
   "source": [
    "simulation_new = Simulation_new(root_files.LOCAL_NEW_COMPLETE)"
   ]
  },
  {
   "cell_type": "code",
   "execution_count": 3,
   "metadata": {},
   "outputs": [
    {
     "name": "stdout",
     "output_type": "stream",
     "text": [
      "analysis of the 'new simulation complete' root file\n",
      "Scatterer:\n",
      "\tPosition: (200.0, 0.0, 0.0)\n",
      "\tThickness: (23.3, 100.0, 176.8)\n",
      "\n",
      "Absorber:\n",
      "\tPosition: (400.0, 0.0, 0.0)\n",
      "\tThickness: (69.8, 100.0, 176.8)\n",
      "\n",
      "processing root file: 100%|███████████████████████████████| 854873/854873 [09:04<00:00, 1570.00it/s]\n",
      " 854,873 total entries\n",
      " 854,873 total entries count events\n",
      " 709,659 total contains cluster in scatterer\n",
      " 818,166 total contains cluster in absorber\n",
      " 672,952 total contains cluster in both volumes\n",
      " 418,937 total real coinc\n",
      " 418,705 total rand coinc\n",
      "  11,212 total real coinc with pile-up\n",
      "   6,019 total rand coinc with pile-up\n",
      "  71,666 one cluster\n",
      " 783,207 min two clusters\n",
      " 672,952 valid entries with distributed clusters\n",
      " 366,535 valid entries with distributed clusters real coinc\n",
      " 291,628 valid entries with distributed clusters random coinc\n",
      " 395,523 compton events\n",
      " 240,634 compton + second interaction\n",
      " 130,798 compton + second in different module\n",
      " 106,350 ideal compton events\n",
      "\t 104,677 ep\n",
      "\t   1,673 pe\n",
      "  97,607 ideal real coincidence compton events\n",
      "  38,700 ideal compton events with matching clusters\n",
      "     211 ideal compton events with overlapping clusters\n"
     ]
    },
    {
     "data": {
      "image/png": "[encoded data removed]",
      "text/plain": [
       "<Figure size 432x288 with 1 Axes>"
      ]
     },
     "metadata": {
      "needs_background": "light"
     },
     "output_type": "display_data"
    },
    {
     "name": "stdout",
     "output_type": "stream",
     "text": [
      "histogram bars' count: [3.3466e+04 3.1239e+04 9.1840e+03 2.4910e+03 6.6000e+02 2.2800e+02\n",
      " 8.0000e+01 3.2000e+01 1.2000e+01 5.0000e+00 3.0000e+00]\n"
     ]
    }
   ],
   "source": [
    "\n",
    "print(\"analysis of the 'new simulation complete' root file\")\n",
    "Utils_new.show_simulation_setup(simulation_new)\n",
    "print()\n",
    "Utils_new.show_root_file_analysis(simulation_new, only_valid=True)"
   ]
  },
  {
   "cell_type": "code",
   "execution_count": 3,
   "metadata": {},
   "outputs": [
    {
     "name": "stdout",
     "output_type": "stream",
     "text": [
      "processing root file: 100%|███████████████████████████████| 854873/854873 [09:07<00:00, 1562.31it/s]\n",
      " 854,873 total entries\n",
      " 854,873 total entries count events\n",
      " 709,659 total contains cluster in scatterer\n",
      " 818,166 total contains cluster in absorber\n",
      " 672,952 total contains cluster in both volumes\n",
      " 418,937 total real coinc\n",
      " 418,705 total rand coinc\n",
      "  11,212 total real coinc with pile-up\n",
      "   6,019 total rand coinc with pile-up\n",
      "  71,666 one cluster\n",
      " 783,207 min two clusters\n",
      " 672,952 valid entries with distributed clusters\n",
      " 366,535 valid entries with distributed clusters real coinc\n",
      " 291,628 valid entries with distributed clusters random coinc\n",
      " 395,523 compton events\n",
      " 240,634 compton + second interaction\n",
      " 130,798 compton + second in different module\n",
      " 106,350 ideal compton events\n",
      "\t 104,677 ep\n",
      "\t   1,673 pe\n",
      "  97,607 ideal real coincidence compton events\n",
      "   6,944 ideal rand coincidence compton events\n",
      "   1,640 ideal real coincidence compton events with pileup\n",
      "  38,700 ideal compton events with matching clusters\n",
      "     211 ideal compton events with overlapping clusters\n"
     ]
    },
    {
     "data": {
      "image/png": "[encoded data removed]",
      "text/plain": [
       "<Figure size 432x288 with 1 Axes>"
      ]
     },
     "metadata": {
      "needs_background": "light"
     },
     "output_type": "display_data"
    },
    {
     "name": "stdout",
     "output_type": "stream",
     "text": [
      "histogram bars' count: [3.3466e+04 3.1239e+04 9.1840e+03 2.4910e+03 6.6000e+02 2.2800e+02\n",
      " 8.0000e+01 3.2000e+01 1.2000e+01 5.0000e+00 3.0000e+00]\n"
     ]
    }
   ],
   "source": [
    "Utils_new.show_root_file_analysis(simulation_new, only_valid=True)"
   ]
  },
  {
   "cell_type": "code",
   "execution_count": 3,
   "metadata": {},
   "outputs": [
    {
     "name": "stdout",
     "output_type": "stream",
     "text": [
      "processing root file: 100%|███████████████████████████████| 854873/854873 [08:02<00:00, 1772.74it/s]\n",
      "Features normalization:\n",
      "clusters entry\n",
      "\tmean 1.780826610712862\n",
      "\tstd 1.6371731651624135\n",
      "\n",
      "clusters energy\n",
      "\tmean 1.3134160095873435\n",
      "\tstd 1.874215149152707\n",
      "\n",
      "clusters energy uncertainty\n",
      "\tmean 0.03338954916639435\n",
      "\tstd 0.0250835375536536\n",
      "\n",
      "clusters position\n",
      "\tmean [ 3.08482929e+02  4.42330610e-02 -8.50224908e-01]\n",
      "\tstd [97.33908375 28.98121222 27.53657139]\n",
      "\n",
      "clusters position uncertainty\n",
      "\tmean [ 1.0542618  12.85909077  0.94718083]\n",
      "\tstd [1.00549903 6.10554312 0.75687835]\n",
      "\n",
      "Targets normalization\n",
      "real e energy\n",
      "\tmean 1.145902968123442\n",
      "\tstd 1.7225469452392403\n",
      "\n",
      "real e position\n",
      "\tmean [ 2.03054229e+02 -1.05712158e-01 -3.13056242e+00]\n",
      "\tstd [23.54037899 20.70622677 27.26802304]\n",
      "\n",
      "real p energy\n",
      "\tmean 2.22115921342183\n",
      "\tstd 1.7916010745717312\n",
      "\n",
      "real p position\n",
      "\tmean [3.92947326e+02 5.97191421e-02 1.18562119e+00]\n",
      "\tstd [26.51553238 28.33107502 28.13506062]\n"
     ]
    }
   ],
   "source": [
    "Utils_new.calculate_normalizations(simulation_new, only_valid=True)"
   ]
  },
  {
   "cell_type": "code",
   "execution_count": 3,
   "metadata": {},
   "outputs": [
    {
     "name": "stdout",
     "output_type": "stream",
     "text": [
      "processing root file: 100%|███████████████████████████████| 854873/854873 [08:16<00:00, 1722.42it/s]\n",
      "Features normalization:\n",
      "clusters entry\n",
      "\tmean 1.780826610712862\n",
      "\tstd 1.6371731651624135\n",
      "\n",
      "clusters energy\n",
      "\tmean 1.3134160095873435\n",
      "\tstd 1.874215149152707\n",
      "\n",
      "clusters energy uncertainty\n",
      "\tmean 0.03338954916639435\n",
      "\tstd 0.0250835375536536\n",
      "\n",
      "clusters position\n",
      "\tmean [ 3.08482929e+02  4.42330610e-02 -8.50224908e-01]\n",
      "\tstd [97.33908375 28.98121222 27.53657139]\n",
      "\n",
      "clusters position uncertainty\n",
      "\tmean [ 1.0542618  12.85909077  0.94718083]\n",
      "\tstd [1.00549903 6.10554312 0.75687835]\n",
      "\n",
      "Targets normalization\n",
      "real e energy\n",
      "\tmean 1.145902968123442\n",
      "\tstd 1.7225469452392403\n",
      "\n",
      "real e position\n",
      "\tmean [ 2.03054229e+02 -1.05712158e-01 -3.13056242e+00]\n",
      "\tstd [23.54037899 20.70622677 27.26802304]\n",
      "\n",
      "real p energy\n",
      "\tmean 2.22115921342183\n",
      "\tstd 1.7916010745717312\n",
      "\n",
      "real p position\n",
      "\tmean [3.92947326e+02 5.97191421e-02 1.18562119e+00]\n",
      "\tstd [26.51553238 28.33107502 28.13506062]\n"
     ]
    }
   ],
   "source": [
    "Utils_new.calculate_normalizations(simulation_new, name = 'LOCAL_NEW_COMPLETE' , only_valid=True)"
   ]
  },
  {
   "cell_type": "code",
   "execution_count": null,
   "metadata": {},
   "outputs": [],
   "source": []
  }
 ],
 "metadata": {
  "kernelspec": {
   "display_name": "Python 3",
   "language": "python",
   "name": "python3"
  },
  "language_info": {
   "codemirror_mode": {
    "name": "ipython",
    "version": 3
   },
   "file_extension": ".py",
   "mimetype": "text/x-python",
   "name": "python",
   "nbconvert_exporter": "python",
   "pygments_lexer": "ipython3",
   "version": "3.7.9"
  }
 },
 "nbformat": 4,
 "nbformat_minor": 4
}
