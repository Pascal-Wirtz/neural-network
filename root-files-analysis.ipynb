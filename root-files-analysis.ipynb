{
 "cells": [
  {
   "cell_type": "code",
   "execution_count": 1,
   "metadata": {},
   "outputs": [],
   "source": [
    "import math\n",
    "import numpy as np\n",
    "import pandas as pd\n",
    "import uproot\n",
    "import matplotlib.pyplot as plt\n",
    "from sificc_lib import utils, Event, Simulation, root_files\n",
    "\n",
    "pd.options.display.max_columns = 100\n",
    "pd.options.display.max_rows = 100\n",
    "pd.options.display.float_format = '{:,.3f}'.format\n",
    "\n",
    "%matplotlib inline"
   ]
  },
  {
   "cell_type": "code",
   "execution_count": 4,
   "metadata": {},
   "outputs": [
    {
     "name": "stdout",
     "output_type": "stream",
     "text": [
      "analysis of the 'highest statistics' root file\n",
      "Scatterer:\n",
      "\tPosition: (200.0, 0.0, 0.0)\n",
      "\tThickness: (13.0, 100.0, 98.8)\n",
      "\n",
      "Absorber:\n",
      "\tPosition: (400.0, 0.0, 0.0)\n",
      "\tThickness: (39.0, 100.0, 98.8)\n",
      "\n",
      "processing root file: 100%|███████████████████████████| 10455358/10455358 [55:34<00:00, 3135.23it/s]\n",
      "10,455,358 total entries\n",
      " 278,811 valid entries with distrbuted clusters\n",
      " 162,173 compton events\n",
      " 114,047 compton + second interaction\n",
      "  93,614 compton + second in different module\n",
      "  79,525 ideal compton events\n",
      "\t  75,455 ep\n",
      "\t   4,070 pe\n",
      "  57,515 ideal compton events with matching clusters\n",
      "     916 ideal compton events with overlapping clusters\n"
     ]
    },
    {
     "data": {
      "image/png": "[encoded data removed]",
      "text/plain": [
       "<Figure size 432x288 with 1 Axes>"
      ]
     },
     "metadata": {
      "needs_background": "light"
     },
     "output_type": "display_data"
    }
   ],
   "source": [
    "simulation = Simulation(root_files.HPC_HIGHEST)\n",
    "print(\"analysis of the 'highest statistics' root file\")\n",
    "utils.show_simulation_setup(simulation)\n",
    "print()\n",
    "utils.show_root_file_analysis(simulation, only_valid=True)"
   ]
  },
  {
   "cell_type": "code",
   "execution_count": 5,
   "metadata": {},
   "outputs": [
    {
     "name": "stdout",
     "output_type": "stream",
     "text": [
      "processing root file: 100%|███████████████████████████| 10455358/10455358 [47:13<00:00, 3690.01it/s]\n",
      "Features normalization:\n",
      "clusters entry\n",
      "\tmean 2.040231921404413\n",
      "\tstd 2.0368607586297127\n",
      "\n",
      "clusters energy\n",
      "\tmean 1.463238041955734\n",
      "\tstd 2.1517674544081133\n",
      "\n",
      "clusters energy uncertainty\n",
      "\tmean 0.056992982647403614\n",
      "\tstd 0.03662857474288101\n",
      "\n",
      "clusters position\n",
      "\tmean [ 3.05663006e+02  2.58387064e-01 -9.36406347e-01]\n",
      "\tstd [96.10447476 24.62908853 27.47497502]\n",
      "\n",
      "clusters position uncertainty\n",
      "\tmean [  1.18703742 -13.13392672   0.99326574]\n",
      "\tstd [ 1.24972692 10.70676995  0.83927992]\n",
      "\n",
      "Targets normalization\n",
      "real e energy\n",
      "\tmean 1.1569136787161725\n",
      "\tstd 1.78606941263188\n",
      "\n",
      "real e position\n",
      "\tmean [209.63565735  -0.23477532  -5.38639807]\n",
      "\tstd [41.08060207 20.77702422 27.19018651]\n",
      "\n",
      "real p energy\n",
      "\tmean 1.9273711829259783\n",
      "\tstd 1.6663689936376904\n",
      "\n",
      "real p position\n",
      "\tmean [3.85999635e+02 1.30259990e-01 2.13816374e+00]\n",
      "\tstd [43.94193657 27.44766386 28.21021386]\n"
     ]
    }
   ],
   "source": [
    "utils.calculate_normalizations(simulation, only_valid=True)"
   ]
  }
 ],
 "metadata": {
  "kernelspec": {
   "display_name": "Python 3",
   "language": "python",
   "name": "python3"
  },
  "language_info": {
   "codemirror_mode": {
    "name": "ipython",
    "version": 3
   },
   "file_extension": ".py",
   "mimetype": "text/x-python",
   "name": "python",
   "nbconvert_exporter": "python",
   "pygments_lexer": "ipython3",
   "version": "3.7.9"
  }
 },
 "nbformat": 4,
 "nbformat_minor": 4
}
