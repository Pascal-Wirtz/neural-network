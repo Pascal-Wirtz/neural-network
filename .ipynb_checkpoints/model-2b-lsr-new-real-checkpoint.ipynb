{
 "cells": [
  {
   "cell_type": "code",
   "execution_count": 1,
   "metadata": {},
   "outputs": [],
   "source": [
    "import numpy as np\n",
    "import uproot\n",
    "import matplotlib.pyplot as plt\n",
    "from tensorflow import keras\n",
    "import tensorflow.keras.backend as K\n",
    "import sys\n",
    "import datetime\n",
    "from tensorflow.python.client import device_lib\n",
    "\n",
    "from sificc_lib import AI, Utils_new, Event_new, Simulation_new, root_files, DataModel_new\n",
    "np.set_printoptions(precision=2, linewidth=85, suppress=True)\n",
    "\n",
    "%matplotlib inline"
   ]
  },
  {
   "cell_type": "code",
   "execution_count": 2,
   "metadata": {},
   "outputs": [
    {
     "name": "stdout",
     "output_type": "stream",
     "text": [
      "Date-time            2021-07-30 10:50:34.599805\n",
      "Tf version:          2.3.0-tf\n",
      "Numpy version:       1.19.1\n",
      "Python               /net/software_g4rt/anaconda3/envs/condaenv-sificcnn/bin/python\n",
      "Python version       3.7.9 (default, Aug 31 2020, 12:42:55) \n",
      "[GCC 7.3.0]\n",
      "GPU devices:         [name: \"/device:CPU:0\"\n",
      "device_type: \"CPU\"\n",
      "memory_limit: 268435456\n",
      "locality {\n",
      "}\n",
      "incarnation: 16395677361470279912\n",
      ", name: \"/device:XLA_CPU:0\"\n",
      "device_type: \"XLA_CPU\"\n",
      "memory_limit: 17179869184\n",
      "locality {\n",
      "}\n",
      "incarnation: 1237031293368460326\n",
      "physical_device_desc: \"device: XLA_CPU device\"\n",
      "]\n"
     ]
    }
   ],
   "source": [
    "# Check used versions\n",
    "now = datetime.datetime.now()\n",
    "print(\"Date-time           \", now)\n",
    "print(\"Tf version:         \", keras.__version__)\n",
    "print(\"Numpy version:      \", np.__version__)\n",
    "print(\"Python              \", sys.executable)\n",
    "print(\"Python version      \", sys.version)\n",
    "print(\"GPU devices:        \", device_lib.list_local_devices())"
   ]
  },
  {
   "cell_type": "code",
   "execution_count": 3,
   "metadata": {},
   "outputs": [],
   "source": [
    "# model name\n",
    "model_name = 'model-2b-lsr-new-real'\n",
    "\n",
    "shuffle_clusters = False\n",
    "\n",
    "# load the training data\n",
    "data = DataModel_new('data-new-complete-real.npz', \n",
    "                 batch_size = 128, validation_percent = .05, test_percent = .1)\n",
    "\n",
    "# append an extra dimention to the features since we are using convolutional layers\n",
    "data.append_dim = True\n",
    "\n",
    "# create an AI instance\n",
    "ai = AI(data, model_name)\n",
    "\n",
    "ai.weight_type = 2\n",
    "ai.weight_pos_x = 2.5\n",
    "ai.weight_pos_y = 1\n",
    "ai.weight_pos_z = 2\n",
    "ai.weight_energy = 1.5\n",
    "ai.weight_e_cluster = 1\n",
    "ai.weight_p_cluster = 1\n",
    "\n",
    "# randomly shuffle the training data\n",
    "#np.random.seed(888)\n",
    "#ai.data.shuffle(only_train=False)\n",
    "\n",
    "# shuffle the clusters within each event\n",
    "if shuffle_clusters:\n",
    "    ai.data.shuffle_training_clusters()"
   ]
  },
  {
   "cell_type": "code",
   "execution_count": 4,
   "metadata": {},
   "outputs": [
    {
     "name": "stdout",
     "output_type": "stream",
     "text": [
      "Model: \"model\"\n",
      "__________________________________________________________________________________________________\n",
      "Layer (type)                    Output Shape         Param #     Connected to                     \n",
      "==================================================================================================\n",
      "inputs (InputLayer)             [(None, 72, 1)]      0                                            \n",
      "__________________________________________________________________________________________________\n",
      "conv_1 (Conv1D)                 (None, 8, 128)       1280        inputs[0][0]                     \n",
      "__________________________________________________________________________________________________\n",
      "conv_2 (Conv1D)                 (None, 8, 64)        8256        conv_1[0][0]                     \n",
      "__________________________________________________________________________________________________\n",
      "flatting (Flatten)              (None, 512)          0           conv_2[0][0]                     \n",
      "__________________________________________________________________________________________________\n",
      "dense_cluster_1 (Dense)         (None, 32)           16416       flatting[0][0]                   \n",
      "__________________________________________________________________________________________________\n",
      "e_cluster (Dense)               (None, 8)            264         dense_cluster_1[0][0]            \n",
      "__________________________________________________________________________________________________\n",
      "p_cluster (Dense)               (None, 8)            264         dense_cluster_1[0][0]            \n",
      "__________________________________________________________________________________________________\n",
      "e_hardmax (Lambda)              (None, 8)            0           e_cluster[0][0]                  \n",
      "__________________________________________________________________________________________________\n",
      "p_hardmax (Lambda)              (None, 8)            0           p_cluster[0][0]                  \n",
      "__________________________________________________________________________________________________\n",
      "join_layer (Concatenate)        (None, 528)          0           flatting[0][0]                   \n",
      "                                                                 e_hardmax[0][0]                  \n",
      "                                                                 p_hardmax[0][0]                  \n",
      "__________________________________________________________________________________________________\n",
      "dense_pos_1 (Dense)             (None, 64)           33856       join_layer[0][0]                 \n",
      "__________________________________________________________________________________________________\n",
      "dense_energy_1 (Dense)          (None, 32)           16928       join_layer[0][0]                 \n",
      "__________________________________________________________________________________________________\n",
      "dense_type_1 (Dense)            (None, 8)            4232        join_layer[0][0]                 \n",
      "__________________________________________________________________________________________________\n",
      "dense_pos_2 (Dense)             (None, 32)           2080        dense_pos_1[0][0]                \n",
      "__________________________________________________________________________________________________\n",
      "dense_energy_2 (Dense)          (None, 16)           528         dense_energy_1[0][0]             \n",
      "__________________________________________________________________________________________________\n",
      "type (Dense)                    (None, 1)            9           dense_type_1[0][0]               \n",
      "__________________________________________________________________________________________________\n",
      "pos_x (Dense)                   (None, 2)            66          dense_pos_2[0][0]                \n",
      "__________________________________________________________________________________________________\n",
      "pos_y (Dense)                   (None, 2)            66          dense_pos_2[0][0]                \n",
      "__________________________________________________________________________________________________\n",
      "pos_z (Dense)                   (None, 2)            66          dense_pos_2[0][0]                \n",
      "__________________________________________________________________________________________________\n",
      "energy (Dense)                  (None, 2)            34          dense_energy_2[0][0]             \n",
      "==================================================================================================\n",
      "Total params: 84,345\n",
      "Trainable params: 84,345\n",
      "Non-trainable params: 0\n",
      "__________________________________________________________________________________________________\n"
     ]
    }
   ],
   "source": [
    "# define and create the neural network architecture\n",
    "ai.create_model(conv_layers=[128, 64], classifier_layers=[32], type_layers=[8], \n",
    "                pos_layers=[64,32], energy_layers=[32, 16], base_l2=.0001, limbs_l2=.0001)"
   ]
  },
  {
   "cell_type": "code",
   "execution_count": 5,
   "metadata": {},
   "outputs": [],
   "source": [
    "# compile the ai\n",
    "ai.compile_model(learning_rate=0.0003)\n",
    "\n",
    "# define the learning rate scheduler for the training phase\n",
    "def lr_scheduler(epoch):\n",
    "    if epoch < 90:\n",
    "        return .0003\n",
    "    elif epoch < 160:\n",
    "        return .0001\n",
    "    elif epoch < 180:\n",
    "        return .00003\n",
    "    elif epoch < 190:\n",
    "        return .00001\n",
    "    else:\n",
    "        return .000003\n",
    "l_callbacks = [\n",
    "    keras.callbacks.LearningRateScheduler(lr_scheduler),\n",
    "]"
   ]
  },
  {
   "cell_type": "code",
   "execution_count": 6,
   "metadata": {},
   "outputs": [],
   "source": [
    "#LOADING after training\n",
    "#ai.load(model_name, optimizer=False)\n",
    "#ai.compile_model()"
   ]
  },
  {
   "cell_type": "code",
   "execution_count": 7,
   "metadata": {},
   "outputs": [],
   "source": [
    "#TRAINING"
   ]
  },
  {
   "cell_type": "code",
   "execution_count": 8,
   "metadata": {},
   "outputs": [
    {
     "name": "stdout",
     "output_type": "stream",
     "text": [
      "9737/9737 [==============================] - 47s 5ms/step - loss: 7.5593 - e_cluster_loss: 0.0445 - p_cluster_loss: 0.1230 - type_loss: 0.3691 - pos_x_loss: 0.6923 - pos_y_loss: 2.4523 - pos_z_loss: 0.2904 - energy_loss: 1.2309 - e_cluster__cluster_accuracy: 0.9547 - p_cluster__cluster_accuracy: 0.8236 - type__type_accuracy: 0.8321 - type__type_tp_rate: 0.5315\n",
      "\n",
      "CPU times: user 11min 44s, sys: 28min 16s, total: 40min\n",
      "Wall time: 5min 16s\n"
     ]
    }
   ],
   "source": [
    "%%time\n",
    "# start the training\n",
    "ai.train(epochs=200, shuffle=True, shuffle_clusters=shuffle_clusters, verbose=0, callbacks = l_callbacks)\n",
    "\n",
    "# evaluate the AI on the training set\n",
    "ai.model.evaluate(ai.data.train_x, ai.data.train_y, verbose=1)\n",
    "print()"
   ]
  },
  {
   "cell_type": "code",
   "execution_count": 9,
   "metadata": {},
   "outputs": [],
   "source": [
    "# plot the training loss\n",
    "#ai.plot_training_loss(smooth=False)"
   ]
  },
  {
   "cell_type": "code",
   "execution_count": 10,
   "metadata": {},
   "outputs": [],
   "source": [
    "#ai.plot_training_loss(mode = 'loss')"
   ]
  },
  {
   "cell_type": "code",
   "execution_count": 11,
   "metadata": {},
   "outputs": [],
   "source": [
    "# evaluate the AI on the test dataset\n",
    "#ai.evaluate()"
   ]
  },
  {
   "cell_type": "code",
   "execution_count": 12,
   "metadata": {},
   "outputs": [],
   "source": [
    "#ai.savefigpath = '/home/home2/institut_3b/profe/Data/SiFiCCNN/21-06_EventAnalysis_ClusterNumbers_EnergyDepo/model-2b-lsr/EnergyDeposition/'\n",
    "#ai.events_prediction_analysis('all-events', save = True)"
   ]
  },
  {
   "cell_type": "code",
   "execution_count": 13,
   "metadata": {},
   "outputs": [],
   "source": [
    "#ai.events_prediction_analysis('cluster-numbers')"
   ]
  },
  {
   "cell_type": "code",
   "execution_count": 14,
   "metadata": {},
   "outputs": [],
   "source": [
    "#ai.events_prediction_analysis('cluster-distribution')"
   ]
  },
  {
   "cell_type": "code",
   "execution_count": 15,
   "metadata": {},
   "outputs": [],
   "source": [
    "#ai.events_prediction_analysis('e-scatterer')"
   ]
  },
  {
   "cell_type": "code",
   "execution_count": 17,
   "metadata": {},
   "outputs": [],
   "source": [
    "# save the trained model\n",
    "ai.save(file_name = model_name)"
   ]
  },
  {
   "cell_type": "code",
   "execution_count": 18,
   "metadata": {},
   "outputs": [],
   "source": [
    "#ai.load(model_name, optimizer=False)"
   ]
  },
  {
   "cell_type": "code",
   "execution_count": null,
   "metadata": {},
   "outputs": [],
   "source": []
  }
 ],
 "metadata": {
  "kernelspec": {
   "display_name": "Python 3",
   "language": "python",
   "name": "python3"
  },
  "language_info": {
   "codemirror_mode": {
    "name": "ipython",
    "version": 3
   },
   "file_extension": ".py",
   "mimetype": "text/x-python",
   "name": "python",
   "nbconvert_exporter": "python",
   "pygments_lexer": "ipython3",
   "version": "3.7.9"
  }
 },
 "nbformat": 4,
 "nbformat_minor": 2
}
