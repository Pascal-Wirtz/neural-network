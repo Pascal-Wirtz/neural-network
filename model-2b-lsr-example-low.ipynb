{
 "cells": [
  {
   "cell_type": "code",
   "execution_count": 1,
   "metadata": {},
   "outputs": [],
   "source": [
    "import numpy as np\n",
    "import uproot\n",
    "import matplotlib.pyplot as plt\n",
    "from tensorflow import keras\n",
    "import tensorflow.keras.backend as K\n",
    "import sys\n",
    "import datetime\n",
    "from tensorflow.python.client import device_lib\n",
    "\n",
    "from sificc_lib import AI, utils, Event, Simulation, root_files, DataModel\n",
    "np.set_printoptions(precision=2, linewidth=85, suppress=True)\n",
    "\n",
    "%matplotlib inline"
   ]
  },
  {
   "cell_type": "code",
   "execution_count": 2,
   "metadata": {},
   "outputs": [
    {
     "name": "stdout",
     "output_type": "stream",
     "text": [
      "Date-time:           2021-08-09 09:42:47.424109\n",
      "Tf version:          2.3.0-tf\n",
      "Numpy version:       1.19.1\n",
      "Python               /net/software_g4rt/anaconda3/envs/condaenv-sificcnn/bin/python\n",
      "Python version       3.7.9 (default, Aug 31 2020, 12:42:55) \n",
      "[GCC 7.3.0]\n",
      "GPU devices:         [name: \"/device:CPU:0\"\n",
      "device_type: \"CPU\"\n",
      "memory_limit: 268435456\n",
      "locality {\n",
      "}\n",
      "incarnation: 6512054234657803271\n",
      ", name: \"/device:XLA_CPU:0\"\n",
      "device_type: \"XLA_CPU\"\n",
      "memory_limit: 17179869184\n",
      "locality {\n",
      "}\n",
      "incarnation: 10617392668255476276\n",
      "physical_device_desc: \"device: XLA_CPU device\"\n",
      "]\n"
     ]
    }
   ],
   "source": [
    "# Check used versions\n",
    "now = datetime.datetime.now()\n",
    "# os.environ[\"CUDA_VISIBLE_DEVICES\"]=\"1\" #on doubleCuda\n",
    "\n",
    "print(\"Date-time:          \", now) \n",
    "print(\"Tf version:         \", keras.__version__)\n",
    "print(\"Numpy version:      \", np.__version__)\n",
    "print(\"Python              \", sys.executable)\n",
    "print(\"Python version      \", sys.version)\n",
    "print(\"GPU devices:        \", device_lib.list_local_devices())"
   ]
  },
  {
   "cell_type": "code",
   "execution_count": 3,
   "metadata": {},
   "outputs": [],
   "source": [
    "# Model to test with low statistics data set\n",
    "\n",
    "model_name = 'model-2b-lsr-example-low'\n",
    "\n",
    "shuffle_clusters = False\n",
    "\n",
    "# load the training data\n",
    "data = DataModel('data-low.npz', \n",
    "                 batch_size = 128, validation_percent = .05, test_percent = .1)\n",
    "                 \n",
    "# append an extra dimention to the features since we are using convolutional layers\n",
    "data.append_dim = True\n",
    "\n",
    "# create an AI instance\n",
    "ai = AI(data, model_name)\n",
    "\n",
    "ai.weight_type = 2\n",
    "ai.weight_pos_x = 2.5\n",
    "ai.weight_pos_y = 1\n",
    "ai.weight_pos_z = 2\n",
    "ai.weight_energy = 1.5\n",
    "ai.weight_e_cluster = 1\n",
    "ai.weight_p_cluster = 1\n",
    "\n",
    "# randomly shuffle the training data\n",
    "#np.random.seed(888)\n",
    "#ai.data.shuffle(only_train=False)\n",
    "\n",
    "# shuffle the clusters within each event\n",
    "if shuffle_clusters:\n",
    "    ai.data.shuffle_training_clusters()"
   ]
  },
  {
   "cell_type": "code",
   "execution_count": 4,
   "metadata": {},
   "outputs": [
    {
     "name": "stdout",
     "output_type": "stream",
     "text": [
      "Model: \"model\"\n",
      "__________________________________________________________________________________________________\n",
      "Layer (type)                    Output Shape         Param #     Connected to                     \n",
      "==================================================================================================\n",
      "inputs (InputLayer)             [(None, 72, 1)]      0                                            \n",
      "__________________________________________________________________________________________________\n",
      "conv_1 (Conv1D)                 (None, 8, 128)       1280        inputs[0][0]                     \n",
      "__________________________________________________________________________________________________\n",
      "conv_2 (Conv1D)                 (None, 8, 64)        8256        conv_1[0][0]                     \n",
      "__________________________________________________________________________________________________\n",
      "flatting (Flatten)              (None, 512)          0           conv_2[0][0]                     \n",
      "__________________________________________________________________________________________________\n",
      "dense_cluster_1 (Dense)         (None, 32)           16416       flatting[0][0]                   \n",
      "__________________________________________________________________________________________________\n",
      "e_cluster (Dense)               (None, 8)            264         dense_cluster_1[0][0]            \n",
      "__________________________________________________________________________________________________\n",
      "p_cluster (Dense)               (None, 8)            264         dense_cluster_1[0][0]            \n",
      "__________________________________________________________________________________________________\n",
      "e_hardmax (Lambda)              (None, 8)            0           e_cluster[0][0]                  \n",
      "__________________________________________________________________________________________________\n",
      "p_hardmax (Lambda)              (None, 8)            0           p_cluster[0][0]                  \n",
      "__________________________________________________________________________________________________\n",
      "join_layer (Concatenate)        (None, 528)          0           flatting[0][0]                   \n",
      "                                                                 e_hardmax[0][0]                  \n",
      "                                                                 p_hardmax[0][0]                  \n",
      "__________________________________________________________________________________________________\n",
      "dense_pos_1 (Dense)             (None, 64)           33856       join_layer[0][0]                 \n",
      "__________________________________________________________________________________________________\n",
      "dense_energy_1 (Dense)          (None, 32)           16928       join_layer[0][0]                 \n",
      "__________________________________________________________________________________________________\n",
      "dense_type_1 (Dense)            (None, 8)            4232        join_layer[0][0]                 \n",
      "__________________________________________________________________________________________________\n",
      "dense_pos_2 (Dense)             (None, 32)           2080        dense_pos_1[0][0]                \n",
      "__________________________________________________________________________________________________\n",
      "dense_energy_2 (Dense)          (None, 16)           528         dense_energy_1[0][0]             \n",
      "__________________________________________________________________________________________________\n",
      "type (Dense)                    (None, 1)            9           dense_type_1[0][0]               \n",
      "__________________________________________________________________________________________________\n",
      "pos_x (Dense)                   (None, 2)            66          dense_pos_2[0][0]                \n",
      "__________________________________________________________________________________________________\n",
      "pos_y (Dense)                   (None, 2)            66          dense_pos_2[0][0]                \n",
      "__________________________________________________________________________________________________\n",
      "pos_z (Dense)                   (None, 2)            66          dense_pos_2[0][0]                \n",
      "__________________________________________________________________________________________________\n",
      "energy (Dense)                  (None, 2)            34          dense_energy_2[0][0]             \n",
      "==================================================================================================\n",
      "Total params: 84,345\n",
      "Trainable params: 84,345\n",
      "Non-trainable params: 0\n",
      "__________________________________________________________________________________________________\n"
     ]
    }
   ],
   "source": [
    "# define and create the neural network architecture\n",
    "ai.create_model(conv_layers=[128, 64], classifier_layers=[32], type_layers=[8], \n",
    "                pos_layers=[64,32], energy_layers=[32, 16], base_l2=.0001, limbs_l2=.0001)"
   ]
  },
  {
   "cell_type": "code",
   "execution_count": 5,
   "metadata": {},
   "outputs": [],
   "source": [
    "# compile the ai\n",
    "ai.compile_model(learning_rate=0.0003)\n",
    "\n",
    "# define the learning rate scheduler for the training phase\n",
    "def lr_scheduler(epoch):\n",
    "    if epoch < 90:\n",
    "        return .0003\n",
    "    elif epoch < 160:\n",
    "        return .0001\n",
    "    elif epoch < 180:\n",
    "        return .00003\n",
    "    elif epoch < 190:\n",
    "        return .00001\n",
    "    else:\n",
    "        return .000003\n",
    "l_callbacks = [\n",
    "    keras.callbacks.LearningRateScheduler(lr_scheduler)\n",
    "]"
   ]
  },
  {
   "cell_type": "code",
   "execution_count": 6,
   "metadata": {},
   "outputs": [],
   "source": [
    "#TRAINING"
   ]
  },
  {
   "cell_type": "code",
   "execution_count": 7,
   "metadata": {},
   "outputs": [
    {
     "name": "stderr",
     "output_type": "stream",
     "text": [
      "/.automount/home/home__home2/institut_3b/profe/Software/DeepLearning/neural-network/sificc_lib/AI.py:25: RuntimeWarning: invalid value encountered in true_divide\n",
      "  logs['pur'] = np.sum(l_matches) / np.sum(y_pred[:,0])\n",
      "/.automount/home/home__home2/institut_3b/profe/Software/DeepLearning/neural-network/sificc_lib/AI.py:31: RuntimeWarning: invalid value encountered in true_divide\n",
      "  logs['val_pur'] = np.sum(l_matches) / np.sum(y_pred[:,0])\n"
     ]
    },
    {
     "name": "stdout",
     "output_type": "stream",
     "text": [
      "CPU times: user 8min 40s, sys: 24min 5s, total: 32min 46s\n",
      "Wall time: 4min 33s\n"
     ]
    }
   ],
   "source": [
    "%%time\n",
    "# start the training\n",
    "ai.train(epochs=200, shuffle=True, shuffle_clusters=shuffle_clusters, verbose=0, callbacks = l_callbacks)"
   ]
  },
  {
   "cell_type": "code",
   "execution_count": 17,
   "metadata": {},
   "outputs": [
    {
     "name": "stdout",
     "output_type": "stream",
     "text": [
      "84/84 [==============================] - 2s 26ms/step - loss: 5.8556 - e_cluster_loss: 0.0450 - p_cluster_loss: 0.1259 - type_loss: 0.3519 - pos_x_loss: 0.4482 - pos_y_loss: 1.6709 - pos_z_loss: 0.2008 - energy_loss: 1.1625 - e_cluster__cluster_accuracy: 0.9363 - p_cluster__cluster_accuracy: 0.8154 - type__type_accuracy: 0.8419 - type__type_tp_rate: 0.7570\n",
      "\n"
     ]
    }
   ],
   "source": [
    "# evaluate the AI on the training set\n",
    "ai.model.evaluate(ai.data.train_x, ai.data.train_y, verbose=1)\n",
    "print()"
   ]
  },
  {
   "cell_type": "code",
   "execution_count": 18,
   "metadata": {},
   "outputs": [
    {
     "name": "stdout",
     "output_type": "stream",
     "text": [
      "AI model\n",
      "  Loss:        6.97984\n",
      "    -Type:         0.39359 *  2.00 = 0.78718\n",
      "    -Pos X:        0.64156 *  2.50 = 1.60391\n",
      "    -Pos Y:        1.64068 *  1.00 = 1.64068\n",
      "    -Pos Z:        0.31045 *  2.00 = 0.62089\n",
      "    -Energy:       1.38586 *  1.50 = 2.07880\n",
      "    -Cls e:        0.08077 *  1.00 = 0.08077\n",
      "    -Cls p:        0.12351 *  1.00 = 0.12351\n",
      "  Accuracy:    0.82428\n",
      "    -TP rate:      0.71765\n",
      "    -Cls e rate:   0.92941\n",
      "    -Cls p rate:   0.82353\n",
      "  Efficiency:  0.00000\n",
      "  Purity:      0.00000\n",
      "  Euc mean:   13.87020\n",
      "  Euc std:    10.12611\n",
      "\n",
      "Reco\n",
      "  Accuracy:    0.63898\n",
      "    -TP rate:      0.71765\n",
      "  Efficiency:  0.08235\n",
      "  Purity:      0.04667\n",
      "  Euc mean:   17.04447\n",
      "  Euc std:    44.69097\n"
     ]
    }
   ],
   "source": [
    "ai.evaluate()"
   ]
  },
  {
   "cell_type": "code",
   "execution_count": 10,
   "metadata": {},
   "outputs": [],
   "source": [
    "# save the trained model\n",
    "#ai.save(file_name=model_name)"
   ]
  },
  {
   "cell_type": "code",
   "execution_count": 11,
   "metadata": {},
   "outputs": [],
   "source": [
    "# Load the trained model\n",
    "#ai.load(file_name=model_name)"
   ]
  },
  {
   "cell_type": "code",
   "execution_count": null,
   "metadata": {},
   "outputs": [],
   "source": []
  }
 ],
 "metadata": {
  "kernelspec": {
   "display_name": "Python 3",
   "language": "python",
   "name": "python3"
  },
  "language_info": {
   "codemirror_mode": {
    "name": "ipython",
    "version": 3
   },
   "file_extension": ".py",
   "mimetype": "text/x-python",
   "name": "python",
   "nbconvert_exporter": "python",
   "pygments_lexer": "ipython3",
   "version": "3.7.9"
  }
 },
 "nbformat": 4,
 "nbformat_minor": 2
}
